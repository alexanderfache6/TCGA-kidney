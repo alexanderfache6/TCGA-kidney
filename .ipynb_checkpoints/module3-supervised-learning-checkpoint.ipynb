{
 "cells": [
  {
   "cell_type": "markdown",
   "metadata": {},
   "source": [
    "# Module 3 - Supervised Learning"
   ]
  },
  {
   "cell_type": "markdown",
   "metadata": {},
   "source": [
    "## Imports"
   ]
  },
  {
   "cell_type": "code",
   "execution_count": 4,
   "metadata": {},
   "outputs": [],
   "source": [
    "import matplotlib.pyplot as plt\n",
    "import numpy as np\n",
    "import seaborn as sb\n",
    "from sklearn.model_selection import train_test_split"
   ]
  },
  {
   "cell_type": "markdown",
   "metadata": {},
   "source": [
    "## Load Data"
   ]
  },
  {
   "cell_type": "code",
   "execution_count": 7,
   "metadata": {},
   "outputs": [
    {
     "name": "stdout",
     "output_type": "stream",
     "text": [
      "(26700, 43)\n",
      "(26700,)\n"
     ]
    }
   ],
   "source": [
    "# X, X_scaled, X_pca\n",
    "\n",
    "X = np.load('Module3/X_pca.npy')\n",
    "y = np.load('Module3/y.npy')\n",
    "\n",
    "print(X.shape)\n",
    "print(y.shape)"
   ]
  },
  {
   "cell_type": "code",
   "execution_count": 64,
   "metadata": {},
   "outputs": [
    {
     "name": "stdout",
     "output_type": "stream",
     "text": [
      "X train: (18690, 43)\n",
      "y train: (18690,)\n",
      "X test: (8010, 43)\n",
      "y test: (8010,)\n"
     ]
    }
   ],
   "source": [
    "#DO NOT CHANGE\n",
    "\n",
    "#split into training and test sets\n",
    "\n",
    "X_train, X_test, y_train, y_test = train_test_split(X, y, test_size=0.30, train_size=0.70, random_state=0, shuffle=True)\n",
    "\n",
    "print('X train:', X_train.shape)\n",
    "print('y train:', y_train.shape)\n",
    "print('X test:', X_test.shape)\n",
    "print('y test:', y_test.shape)"
   ]
  },
  {
   "cell_type": "code",
   "execution_count": 74,
   "metadata": {},
   "outputs": [],
   "source": [
    "from sklearn.metrics import accuracy_score, auc, confusion_matrix, f1_score, matthews_corrcoef\n",
    "\n",
    "def performance_metrics(y, y_prediction):\n",
    "    confusion = confusion_matrix(y, y_prediction)\n",
    "    cmap = sb.light_palette(\"green\", as_cmap=True)\n",
    "    confusion_plot = pd.DataFrame(confusion)\n",
    "    confusion_plot = confusion_plot.style.background_gradient(cmap=cmap)\n",
    "    \n",
    "    display(confusion_plot)\n",
    "    print('%38s: %.4f' % ('Accuracy Score', accuracy_score(y, y_prediction, normalize=True))) #best performance is 1 with normalize == True\n",
    "    print('%38s: %.4f' % ('F1-Score', f1_score(y, y_prediction, average='macro'))) # F1 = 2 * (precision * recall) / (precision + recall)\n",
    "    print('%38s: %.4f' % ('Matthews Correlation Coefficient (MCC)', matthews_corrcoef(y, y_prediction))) #+1 represents a perfect prediction, 0 an average random prediction and -1 and inverse prediction\n",
    "    print('%38s: %.4f' % ('Area Under the Cruve (AUC)', matthews_corrcoef(y, y_prediction)))"
   ]
  },
  {
   "cell_type": "code",
   "execution_count": 83,
   "metadata": {},
   "outputs": [],
   "source": [
    "from sklearn.model_selection import KFold\n",
    "\n",
    "def cross_validation(X_train, y_train):\n",
    "    kf = KFold(n_splits=4, shuffle=True, random_state=0)\n",
    "    \n",
    "    for train_index, test_index in kf.split(X_train):\n",
    "        clf = KNeighborsClassifier(n_neighbors=20).fit(X_train[train_index, :], y_train[train_index])\n",
    "        y_train_prediction = clf.predict(X_train[train_index, :])\n",
    "        print('%14s: %.4f' % ('Accuracy Score', accuracy_score(y_train[train_index], y_train_prediction, normalize=True)))"
   ]
  },
  {
   "cell_type": "markdown",
   "metadata": {},
   "source": [
    "## KNN"
   ]
  },
  {
   "cell_type": "code",
   "execution_count": 84,
   "metadata": {},
   "outputs": [
    {
     "name": "stdout",
     "output_type": "stream",
     "text": [
      "                        Accuracy Score: 0.9813\n",
      "                        Accuracy Score: 0.9812\n",
      "                        Accuracy Score: 0.9833\n",
      "                        Accuracy Score: 0.9814\n"
     ]
    }
   ],
   "source": [
    "from sklearn.neighbors import KNeighborsClassifier\n",
    "\n",
    "# clf = KNeighborsClassifier(n_neighbors=20).fit(X_train, y_train)\n",
    "\n",
    "cross_validation(X_train, y_train)"
   ]
  },
  {
   "cell_type": "code",
   "execution_count": 71,
   "metadata": {},
   "outputs": [],
   "source": [
    "y_train_prediction = clf.predict(X_train)\n",
    "y_test_prediction = clf.predict(X_test)"
   ]
  },
  {
   "cell_type": "code",
   "execution_count": null,
   "metadata": {},
   "outputs": [],
   "source": [
    "print('---- Train ----')\n",
    "performance_metrics(y_train, y_train_prediction)"
   ]
  },
  {
   "cell_type": "code",
   "execution_count": 73,
   "metadata": {},
   "outputs": [
    {
     "name": "stdout",
     "output_type": "stream",
     "text": [
      "---- Train ----\n"
     ]
    },
    {
     "data": {
      "text/html": [
       "<style  type=\"text/css\" >\n",
       "    #T_272e3a74_7ea1_11ea_9a4c_9eb6d0118b0drow0_col0 {\n",
       "            background-color:  #008000;\n",
       "        }    #T_272e3a74_7ea1_11ea_9a4c_9eb6d0118b0drow0_col1 {\n",
       "            background-color:  #e5ffe5;\n",
       "        }    #T_272e3a74_7ea1_11ea_9a4c_9eb6d0118b0drow0_col2 {\n",
       "            background-color:  #e5ffe5;\n",
       "        }    #T_272e3a74_7ea1_11ea_9a4c_9eb6d0118b0drow1_col0 {\n",
       "            background-color:  #e5ffe5;\n",
       "        }    #T_272e3a74_7ea1_11ea_9a4c_9eb6d0118b0drow1_col1 {\n",
       "            background-color:  #008000;\n",
       "        }    #T_272e3a74_7ea1_11ea_9a4c_9eb6d0118b0drow1_col2 {\n",
       "            background-color:  #e5ffe5;\n",
       "        }    #T_272e3a74_7ea1_11ea_9a4c_9eb6d0118b0drow2_col0 {\n",
       "            background-color:  #e5ffe5;\n",
       "        }    #T_272e3a74_7ea1_11ea_9a4c_9eb6d0118b0drow2_col1 {\n",
       "            background-color:  #e5ffe5;\n",
       "        }    #T_272e3a74_7ea1_11ea_9a4c_9eb6d0118b0drow2_col2 {\n",
       "            background-color:  #008000;\n",
       "        }</style>  \n",
       "<table id=\"T_272e3a74_7ea1_11ea_9a4c_9eb6d0118b0d\" > \n",
       "<thead>    <tr> \n",
       "        <th class=\"blank level0\" ></th> \n",
       "        <th class=\"col_heading level0 col0\" >0</th> \n",
       "        <th class=\"col_heading level0 col1\" >1</th> \n",
       "        <th class=\"col_heading level0 col2\" >2</th> \n",
       "    </tr></thead> \n",
       "<tbody>    <tr> \n",
       "        <th id=\"T_272e3a74_7ea1_11ea_9a4c_9eb6d0118b0dlevel0_row0\" class=\"row_heading level0 row0\" >0</th> \n",
       "        <td id=\"T_272e3a74_7ea1_11ea_9a4c_9eb6d0118b0drow0_col0\" class=\"data row0 col0\" >6179</td> \n",
       "        <td id=\"T_272e3a74_7ea1_11ea_9a4c_9eb6d0118b0drow0_col1\" class=\"data row0 col1\" >42</td> \n",
       "        <td id=\"T_272e3a74_7ea1_11ea_9a4c_9eb6d0118b0drow0_col2\" class=\"data row0 col2\" >60</td> \n",
       "    </tr>    <tr> \n",
       "        <th id=\"T_272e3a74_7ea1_11ea_9a4c_9eb6d0118b0dlevel0_row1\" class=\"row_heading level0 row1\" >1</th> \n",
       "        <td id=\"T_272e3a74_7ea1_11ea_9a4c_9eb6d0118b0drow1_col0\" class=\"data row1 col0\" >41</td> \n",
       "        <td id=\"T_272e3a74_7ea1_11ea_9a4c_9eb6d0118b0drow1_col1\" class=\"data row1 col1\" >6015</td> \n",
       "        <td id=\"T_272e3a74_7ea1_11ea_9a4c_9eb6d0118b0drow1_col2\" class=\"data row1 col2\" >85</td> \n",
       "    </tr>    <tr> \n",
       "        <th id=\"T_272e3a74_7ea1_11ea_9a4c_9eb6d0118b0dlevel0_row2\" class=\"row_heading level0 row2\" >2</th> \n",
       "        <td id=\"T_272e3a74_7ea1_11ea_9a4c_9eb6d0118b0drow2_col0\" class=\"data row2 col0\" >40</td> \n",
       "        <td id=\"T_272e3a74_7ea1_11ea_9a4c_9eb6d0118b0drow2_col1\" class=\"data row2 col1\" >10</td> \n",
       "        <td id=\"T_272e3a74_7ea1_11ea_9a4c_9eb6d0118b0drow2_col2\" class=\"data row2 col2\" >6218</td> \n",
       "    </tr></tbody> \n",
       "</table> "
      ],
      "text/plain": [
       "<pandas.io.formats.style.Styler at 0x2a8a84f2320>"
      ]
     },
     "metadata": {},
     "output_type": "display_data"
    },
    {
     "name": "stdout",
     "output_type": "stream",
     "text": [
      "                        Accuracy Score: 0.9851\n",
      "                              F1-Score: 0.9851\n",
      "Matthews Correlation Coefficient (MCC): 0.9777\n",
      "            Area Under the Cruve (AUC): 0.9777\n",
      "\n",
      "---- Test ----\n"
     ]
    },
    {
     "data": {
      "text/html": [
       "<style  type=\"text/css\" >\n",
       "    #T_273de824_7ea1_11ea_a2b3_9eb6d0118b0drow0_col0 {\n",
       "            background-color:  #008000;\n",
       "        }    #T_273de824_7ea1_11ea_a2b3_9eb6d0118b0drow0_col1 {\n",
       "            background-color:  #e5ffe5;\n",
       "        }    #T_273de824_7ea1_11ea_a2b3_9eb6d0118b0drow0_col2 {\n",
       "            background-color:  #e5ffe5;\n",
       "        }    #T_273de824_7ea1_11ea_a2b3_9eb6d0118b0drow1_col0 {\n",
       "            background-color:  #e5ffe5;\n",
       "        }    #T_273de824_7ea1_11ea_a2b3_9eb6d0118b0drow1_col1 {\n",
       "            background-color:  #008000;\n",
       "        }    #T_273de824_7ea1_11ea_a2b3_9eb6d0118b0drow1_col2 {\n",
       "            background-color:  #e4fee4;\n",
       "        }    #T_273de824_7ea1_11ea_a2b3_9eb6d0118b0drow2_col0 {\n",
       "            background-color:  #e5ffe5;\n",
       "        }    #T_273de824_7ea1_11ea_a2b3_9eb6d0118b0drow2_col1 {\n",
       "            background-color:  #e5ffe5;\n",
       "        }    #T_273de824_7ea1_11ea_a2b3_9eb6d0118b0drow2_col2 {\n",
       "            background-color:  #008000;\n",
       "        }</style>  \n",
       "<table id=\"T_273de824_7ea1_11ea_a2b3_9eb6d0118b0d\" > \n",
       "<thead>    <tr> \n",
       "        <th class=\"blank level0\" ></th> \n",
       "        <th class=\"col_heading level0 col0\" >0</th> \n",
       "        <th class=\"col_heading level0 col1\" >1</th> \n",
       "        <th class=\"col_heading level0 col2\" >2</th> \n",
       "    </tr></thead> \n",
       "<tbody>    <tr> \n",
       "        <th id=\"T_273de824_7ea1_11ea_a2b3_9eb6d0118b0dlevel0_row0\" class=\"row_heading level0 row0\" >0</th> \n",
       "        <td id=\"T_273de824_7ea1_11ea_a2b3_9eb6d0118b0drow0_col0\" class=\"data row0 col0\" >2615</td> \n",
       "        <td id=\"T_273de824_7ea1_11ea_a2b3_9eb6d0118b0drow0_col1\" class=\"data row0 col1\" >22</td> \n",
       "        <td id=\"T_273de824_7ea1_11ea_a2b3_9eb6d0118b0drow0_col2\" class=\"data row0 col2\" >22</td> \n",
       "    </tr>    <tr> \n",
       "        <th id=\"T_273de824_7ea1_11ea_a2b3_9eb6d0118b0dlevel0_row1\" class=\"row_heading level0 row1\" >1</th> \n",
       "        <td id=\"T_273de824_7ea1_11ea_a2b3_9eb6d0118b0drow1_col0\" class=\"data row1 col0\" >26</td> \n",
       "        <td id=\"T_273de824_7ea1_11ea_a2b3_9eb6d0118b0drow1_col1\" class=\"data row1 col1\" >2574</td> \n",
       "        <td id=\"T_273de824_7ea1_11ea_a2b3_9eb6d0118b0drow1_col2\" class=\"data row1 col2\" >49</td> \n",
       "    </tr>    <tr> \n",
       "        <th id=\"T_273de824_7ea1_11ea_a2b3_9eb6d0118b0dlevel0_row2\" class=\"row_heading level0 row2\" >2</th> \n",
       "        <td id=\"T_273de824_7ea1_11ea_a2b3_9eb6d0118b0drow2_col0\" class=\"data row2 col0\" >21</td> \n",
       "        <td id=\"T_273de824_7ea1_11ea_a2b3_9eb6d0118b0drow2_col1\" class=\"data row2 col1\" >4</td> \n",
       "        <td id=\"T_273de824_7ea1_11ea_a2b3_9eb6d0118b0drow2_col2\" class=\"data row2 col2\" >2677</td> \n",
       "    </tr></tbody> \n",
       "</table> "
      ],
      "text/plain": [
       "<pandas.io.formats.style.Styler at 0x2a8a85bcdd8>"
      ]
     },
     "metadata": {},
     "output_type": "display_data"
    },
    {
     "name": "stdout",
     "output_type": "stream",
     "text": [
      "                        Accuracy Score: 0.9820\n",
      "                              F1-Score: 0.9820\n",
      "Matthews Correlation Coefficient (MCC): 0.9731\n",
      "            Area Under the Cruve (AUC): 0.9731\n"
     ]
    }
   ],
   "source": [
    "print('---- Test ----')\n",
    "performance_metrics(y_test, y_test_prediction)"
   ]
  },
  {
   "cell_type": "markdown",
   "metadata": {},
   "source": [
    "## SVM"
   ]
  },
  {
   "cell_type": "code",
   "execution_count": null,
   "metadata": {},
   "outputs": [],
   "source": []
  },
  {
   "cell_type": "markdown",
   "metadata": {},
   "source": [
    "## Random Forest"
   ]
  },
  {
   "cell_type": "code",
   "execution_count": null,
   "metadata": {},
   "outputs": [],
   "source": []
  }
 ],
 "metadata": {
  "kernelspec": {
   "display_name": "Python 3",
   "language": "python",
   "name": "python3"
  },
  "language_info": {
   "codemirror_mode": {
    "name": "ipython",
    "version": 3
   },
   "file_extension": ".py",
   "mimetype": "text/x-python",
   "name": "python",
   "nbconvert_exporter": "python",
   "pygments_lexer": "ipython3",
   "version": "3.6.8"
  }
 },
 "nbformat": 4,
 "nbformat_minor": 2
}
