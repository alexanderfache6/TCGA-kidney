{
 "cells": [
  {
   "cell_type": "markdown",
   "metadata": {},
   "source": [
    "# Module 3 - Supervised Learning"
   ]
  },
  {
   "cell_type": "markdown",
   "metadata": {},
   "source": [
    "## Imports"
   ]
  },
  {
   "cell_type": "code",
   "execution_count": 50,
   "metadata": {
    "scrolled": true
   },
   "outputs": [],
   "source": [
    "from joblib import dump, load\n",
    "import matplotlib.pyplot as plt\n",
    "import numpy as np\n",
    "import pandas as pd\n",
    "import seaborn as sb\n",
    "from sklearn.model_selection import GridSearchCV, train_test_split"
   ]
  },
  {
   "cell_type": "markdown",
   "metadata": {},
   "source": [
    "## Load Data"
   ]
  },
  {
   "cell_type": "code",
   "execution_count": 2,
   "metadata": {
    "scrolled": true
   },
   "outputs": [
    {
     "name": "stdout",
     "output_type": "stream",
     "text": [
      "(26700, 43)\n",
      "(26700,)\n"
     ]
    }
   ],
   "source": [
    "# X, X_scaled, X_pca\n",
    "\n",
    "X = np.load('Module3/X_pca.npy')\n",
    "y = np.load('Module3/y.npy')\n",
    "\n",
    "print(X.shape)\n",
    "print(y.shape)"
   ]
  },
  {
   "cell_type": "code",
   "execution_count": 3,
   "metadata": {
    "scrolled": true
   },
   "outputs": [
    {
     "name": "stdout",
     "output_type": "stream",
     "text": [
      "X train: (18690, 43)\n",
      "y train: (18690,)\n",
      "X test: (8010, 43)\n",
      "y test: (8010,)\n"
     ]
    }
   ],
   "source": [
    "#DO NOT CHANGE\n",
    "\n",
    "#split into training and test sets\n",
    "\n",
    "X_train, X_test, y_train, y_test = train_test_split(X, y, test_size=0.30, train_size=0.70, random_state=0, shuffle=True)\n",
    "\n",
    "print('X train:', X_train.shape)\n",
    "print('y train:', y_train.shape)\n",
    "print('X test:', X_test.shape)\n",
    "print('y test:', y_test.shape)"
   ]
  },
  {
   "cell_type": "code",
   "execution_count": 4,
   "metadata": {
    "scrolled": true
   },
   "outputs": [],
   "source": [
    "from sklearn.metrics import accuracy_score, auc, confusion_matrix, f1_score, matthews_corrcoef\n",
    "\n",
    "def performance_metrics(y, y_prediction):\n",
    "    confusion = confusion_matrix(y, y_prediction)\n",
    "    cmap = sb.light_palette(\"green\", as_cmap=True)\n",
    "    confusion_plot = pd.DataFrame(confusion)\n",
    "    confusion_plot = confusion_plot.style.background_gradient(cmap=cmap)\n",
    "    \n",
    "    display(confusion_plot)\n",
    "    print('%38s: %.4f' % ('Accuracy Score', accuracy_score(y, y_prediction, normalize=True))) #best performance is 1 with normalize == True\n",
    "    print('%38s: %.4f' % ('F1-Score', f1_score(y, y_prediction, average='macro'))) # F1 = 2 * (precision * recall) / (precision + recall)\n",
    "    print('%38s: %.4f' % ('Matthews Correlation Coefficient (MCC)', matthews_corrcoef(y, y_prediction))) #+1 represents a perfect prediction, 0 an average random prediction and -1 and inverse prediction\n",
    "    print('%38s: %.4f' % ('Area Under the Cruve (AUC)', matthews_corrcoef(y, y_prediction)))"
   ]
  },
  {
   "cell_type": "code",
   "execution_count": 5,
   "metadata": {
    "scrolled": true
   },
   "outputs": [],
   "source": [
    "from sklearn.model_selection import KFold\n",
    "\n",
    "def cross_validation(clf, X_train, y_train, plot=True):\n",
    "    kf = KFold(n_splits=10, shuffle=True)\n",
    "    \n",
    "    accuracy = []\n",
    "    for train_index, test_index in kf.split(X_train):\n",
    "        clf = clf.fit(X_train[train_index, :], y_train[train_index])\n",
    "        y_train_prediction = clf.predict(X_train[train_index, :])\n",
    "        \n",
    "        accuracy.append(accuracy_score(y_train[train_index], y_train_prediction, normalize=True))\n",
    "        print('%s: %.4f' % ('Accuracy Score', accuracy[-1]))\n",
    "        \n",
    "    if plot:\n",
    "        ax = sb.scatterplot(x=range(1, len(accuracy) + 1), y=accuracy, palette=\"Blues_d\")\n",
    "        ax.set(xlabel='Iteration', ylabel='Accuracy', title='K-Fold')"
   ]
  },
  {
   "cell_type": "markdown",
   "metadata": {},
   "source": [
    "## KNN"
   ]
  },
  {
   "cell_type": "code",
   "execution_count": 6,
   "metadata": {
    "scrolled": true
   },
   "outputs": [],
   "source": [
    "from sklearn.neighbors import KNeighborsClassifier"
   ]
  },
  {
   "cell_type": "code",
   "execution_count": 33,
   "metadata": {
    "scrolled": false
   },
   "outputs": [
    {
     "name": "stdout",
     "output_type": "stream",
     "text": [
      "Accuracy Score: 0.9989\n",
      "Accuracy Score: 0.9992\n",
      "Accuracy Score: 0.9990\n",
      "Accuracy Score: 0.9993\n",
      "Accuracy Score: 0.9986\n",
      "Accuracy Score: 0.9993\n",
      "Accuracy Score: 0.9982\n",
      "Accuracy Score: 0.9991\n",
      "Accuracy Score: 0.9990\n",
      "Accuracy Score: 0.9982\n"
     ]
    },
    {
     "data": {
      "image/png": "[encoded data removed]",
      "text/plain": [
       "<Figure size 432x288 with 1 Axes>"
      ]
     },
     "metadata": {},
     "output_type": "display_data"
    }
   ],
   "source": [
    "# Cross-Validation (see if KNN is a good approach)\n",
    "\n",
    "cross_validation(KNeighborsClassifier(), X_train, y_train)"
   ]
  },
  {
   "cell_type": "code",
   "execution_count": 57,
   "metadata": {
    "scrolled": true
   },
   "outputs": [
    {
     "name": "stdout",
     "output_type": "stream",
     "text": [
      "GridSearchCV(cv=2, error_score='raise-deprecating',\n",
      "             estimator=KNeighborsClassifier(algorithm='auto', leaf_size=30,\n",
      "                                            metric='minkowski',\n",
      "                                            metric_params=None, n_jobs=None,\n",
      "                                            n_neighbors=5, p=2,\n",
      "                                            weights='uniform'),\n",
      "             iid='warn', n_jobs=None,\n",
      "             param_grid={'leaf_size': [1, 2, 3, 4, 5, 6, 7, 8, 9],\n",
      "                         'n_neighbors': [1, 2, 3, 4, 5, 6, 7, 8, 9], 'p': [2]},\n",
      "             pre_dispatch='2*n_jobs', refit=True, return_train_score=False,\n",
      "             scoring=None, verbose=2)\n"
     ]
    }
   ],
   "source": [
    "# Hyperparameter Tuning\n",
    "\n",
    "n_neighbors = list(range(1, 10))\n",
    "leaf_size = list(range(1, 10))\n",
    "p = [2]\n",
    "hyperparameters = dict(n_neighbors=n_neighbors, leaf_size=leaf_size, p=p)\n",
    "\n",
    "clf = GridSearchCV(estimator=KNeighborsClassifier(), param_grid=hyperparameters, cv=2, verbose=2, refit=True)\n",
    "print(clf)"
   ]
  },
  {
   "cell_type": "code",
   "execution_count": 58,
   "metadata": {
    "scrolled": true
   },
   "outputs": [
    {
     "name": "stdout",
     "output_type": "stream",
     "text": [
      "Fitting 2 folds for each of 81 candidates, totalling 162 fits\n",
      "[CV] leaf_size=1, n_neighbors=1, p=2 .................................\n"
     ]
    },
    {
     "name": "stderr",
     "output_type": "stream",
     "text": [
      "[Parallel(n_jobs=1)]: Using backend SequentialBackend with 1 concurrent workers.\n"
     ]
    },
    {
     "name": "stdout",
     "output_type": "stream",
     "text": [
      "[CV] .................. leaf_size=1, n_neighbors=1, p=2, total=   1.1s\n",
      "[CV] leaf_size=1, n_neighbors=1, p=2 .................................\n"
     ]
    },
    {
     "name": "stderr",
     "output_type": "stream",
     "text": [
      "[Parallel(n_jobs=1)]: Done   1 out of   1 | elapsed:    1.0s remaining:    0.0s\n"
     ]
    },
    {
     "name": "stdout",
     "output_type": "stream",
     "text": [
      "[CV] .................. leaf_size=1, n_neighbors=1, p=2, total=   1.1s\n",
      "[CV] leaf_size=1, n_neighbors=2, p=2 .................................\n",
      "[CV] .................. leaf_size=1, n_neighbors=2, p=2, total=   2.4s\n",
      "[CV] leaf_size=1, n_neighbors=2, p=2 .................................\n",
      "[CV] .................. leaf_size=1, n_neighbors=2, p=2, total=   2.5s\n",
      "[CV] leaf_size=1, n_neighbors=3, p=2 .................................\n",
      "[CV] .................. leaf_size=1, n_neighbors=3, p=2, total=   4.2s\n",
      "[CV] leaf_size=1, n_neighbors=3, p=2 .................................\n",
      "[CV] .................. leaf_size=1, n_neighbors=3, p=2, total=   3.9s\n",
      "[CV] leaf_size=1, n_neighbors=4, p=2 .................................\n",
      "[CV] .................. leaf_size=1, n_neighbors=4, p=2, total=   5.0s\n",
      "[CV] leaf_size=1, n_neighbors=4, p=2 .................................\n",
      "[CV] .................. leaf_size=1, n_neighbors=4, p=2, total=   5.2s\n",
      "[CV] leaf_size=1, n_neighbors=5, p=2 .................................\n",
      "[CV] .................. leaf_size=1, n_neighbors=5, p=2, total=   6.4s\n",
      "[CV] leaf_size=1, n_neighbors=5, p=2 .................................\n",
      "[CV] .................. leaf_size=1, n_neighbors=5, p=2, total=   6.7s\n",
      "[CV] leaf_size=1, n_neighbors=6, p=2 .................................\n",
      "[CV] .................. leaf_size=1, n_neighbors=6, p=2, total=   7.1s\n",
      "[CV] leaf_size=1, n_neighbors=6, p=2 .................................\n",
      "[CV] .................. leaf_size=1, n_neighbors=6, p=2, total=   6.7s\n",
      "[CV] leaf_size=1, n_neighbors=7, p=2 .................................\n",
      "[CV] .................. leaf_size=1, n_neighbors=7, p=2, total=   7.9s\n",
      "[CV] leaf_size=1, n_neighbors=7, p=2 .................................\n",
      "[CV] .................. leaf_size=1, n_neighbors=7, p=2, total=   7.4s\n",
      "[CV] leaf_size=1, n_neighbors=8, p=2 .................................\n",
      "[CV] .................. leaf_size=1, n_neighbors=8, p=2, total=   8.1s\n",
      "[CV] leaf_size=1, n_neighbors=8, p=2 .................................\n",
      "[CV] .................. leaf_size=1, n_neighbors=8, p=2, total=   8.0s\n",
      "[CV] leaf_size=1, n_neighbors=9, p=2 .................................\n",
      "[CV] .................. leaf_size=1, n_neighbors=9, p=2, total=   8.6s\n",
      "[CV] leaf_size=1, n_neighbors=9, p=2 .................................\n",
      "[CV] .................. leaf_size=1, n_neighbors=9, p=2, total=   8.6s\n",
      "[CV] leaf_size=2, n_neighbors=1, p=2 .................................\n",
      "[CV] .................. leaf_size=2, n_neighbors=1, p=2, total=   0.9s\n",
      "[CV] leaf_size=2, n_neighbors=1, p=2 .................................\n",
      "[CV] .................. leaf_size=2, n_neighbors=1, p=2, total=   0.9s\n",
      "[CV] leaf_size=2, n_neighbors=2, p=2 .................................\n",
      "[CV] .................. leaf_size=2, n_neighbors=2, p=2, total=   2.0s\n",
      "[CV] leaf_size=2, n_neighbors=2, p=2 .................................\n",
      "[CV] .................. leaf_size=2, n_neighbors=2, p=2, total=   2.1s\n",
      "[CV] leaf_size=2, n_neighbors=3, p=2 .................................\n",
      "[CV] .................. leaf_size=2, n_neighbors=3, p=2, total=   3.2s\n",
      "[CV] leaf_size=2, n_neighbors=3, p=2 .................................\n",
      "[CV] .................. leaf_size=2, n_neighbors=3, p=2, total=   3.2s\n",
      "[CV] leaf_size=2, n_neighbors=4, p=2 .................................\n",
      "[CV] .................. leaf_size=2, n_neighbors=4, p=2, total=   4.3s\n",
      "[CV] leaf_size=2, n_neighbors=4, p=2 .................................\n",
      "[CV] .................. leaf_size=2, n_neighbors=4, p=2, total=   4.6s\n",
      "[CV] leaf_size=2, n_neighbors=5, p=2 .................................\n",
      "[CV] .................. leaf_size=2, n_neighbors=5, p=2, total=   5.0s\n",
      "[CV] leaf_size=2, n_neighbors=5, p=2 .................................\n",
      "[CV] .................. leaf_size=2, n_neighbors=5, p=2, total=   4.9s\n",
      "[CV] leaf_size=2, n_neighbors=6, p=2 .................................\n",
      "[CV] .................. leaf_size=2, n_neighbors=6, p=2, total=   5.6s\n",
      "[CV] leaf_size=2, n_neighbors=6, p=2 .................................\n",
      "[CV] .................. leaf_size=2, n_neighbors=6, p=2, total=   5.5s\n",
      "[CV] leaf_size=2, n_neighbors=7, p=2 .................................\n",
      "[CV] .................. leaf_size=2, n_neighbors=7, p=2, total=   6.1s\n",
      "[CV] leaf_size=2, n_neighbors=7, p=2 .................................\n",
      "[CV] .................. leaf_size=2, n_neighbors=7, p=2, total=   6.0s\n",
      "[CV] leaf_size=2, n_neighbors=8, p=2 .................................\n",
      "[CV] .................. leaf_size=2, n_neighbors=8, p=2, total=   6.7s\n",
      "[CV] leaf_size=2, n_neighbors=8, p=2 .................................\n",
      "[CV] .................. leaf_size=2, n_neighbors=8, p=2, total=   6.5s\n",
      "[CV] leaf_size=2, n_neighbors=9, p=2 .................................\n",
      "[CV] .................. leaf_size=2, n_neighbors=9, p=2, total=   7.1s\n",
      "[CV] leaf_size=2, n_neighbors=9, p=2 .................................\n",
      "[CV] .................. leaf_size=2, n_neighbors=9, p=2, total=   6.9s\n",
      "[CV] leaf_size=3, n_neighbors=1, p=2 .................................\n",
      "[CV] .................. leaf_size=3, n_neighbors=1, p=2, total=   0.8s\n",
      "[CV] leaf_size=3, n_neighbors=1, p=2 .................................\n",
      "[CV] .................. leaf_size=3, n_neighbors=1, p=2, total=   0.9s\n",
      "[CV] leaf_size=3, n_neighbors=2, p=2 .................................\n",
      "[CV] .................. leaf_size=3, n_neighbors=2, p=2, total=   1.8s\n",
      "[CV] leaf_size=3, n_neighbors=2, p=2 .................................\n",
      "[CV] .................. leaf_size=3, n_neighbors=2, p=2, total=   1.8s\n",
      "[CV] leaf_size=3, n_neighbors=3, p=2 .................................\n",
      "[CV] .................. leaf_size=3, n_neighbors=3, p=2, total=   2.6s\n",
      "[CV] leaf_size=3, n_neighbors=3, p=2 .................................\n",
      "[CV] .................. leaf_size=3, n_neighbors=3, p=2, total=   2.6s\n",
      "[CV] leaf_size=3, n_neighbors=4, p=2 .................................\n",
      "[CV] .................. leaf_size=3, n_neighbors=4, p=2, total=   3.3s\n",
      "[CV] leaf_size=3, n_neighbors=4, p=2 .................................\n",
      "[CV] .................. leaf_size=3, n_neighbors=4, p=2, total=   3.3s\n",
      "[CV] leaf_size=3, n_neighbors=5, p=2 .................................\n",
      "[CV] .................. leaf_size=3, n_neighbors=5, p=2, total=   3.9s\n",
      "[CV] leaf_size=3, n_neighbors=5, p=2 .................................\n",
      "[CV] .................. leaf_size=3, n_neighbors=5, p=2, total=   4.0s\n",
      "[CV] leaf_size=3, n_neighbors=6, p=2 .................................\n",
      "[CV] .................. leaf_size=3, n_neighbors=6, p=2, total=   4.4s\n",
      "[CV] leaf_size=3, n_neighbors=6, p=2 .................................\n",
      "[CV] .................. leaf_size=3, n_neighbors=6, p=2, total=   4.3s\n",
      "[CV] leaf_size=3, n_neighbors=7, p=2 .................................\n",
      "[CV] .................. leaf_size=3, n_neighbors=7, p=2, total=   4.8s\n",
      "[CV] leaf_size=3, n_neighbors=7, p=2 .................................\n",
      "[CV] .................. leaf_size=3, n_neighbors=7, p=2, total=   4.7s\n",
      "[CV] leaf_size=3, n_neighbors=8, p=2 .................................\n",
      "[CV] .................. leaf_size=3, n_neighbors=8, p=2, total=   5.1s\n",
      "[CV] leaf_size=3, n_neighbors=8, p=2 .................................\n",
      "[CV] .................. leaf_size=3, n_neighbors=8, p=2, total=   5.0s\n",
      "[CV] leaf_size=3, n_neighbors=9, p=2 .................................\n",
      "[CV] .................. leaf_size=3, n_neighbors=9, p=2, total=   5.4s\n",
      "[CV] leaf_size=3, n_neighbors=9, p=2 .................................\n",
      "[CV] .................. leaf_size=3, n_neighbors=9, p=2, total=   5.3s\n",
      "[CV] leaf_size=4, n_neighbors=1, p=2 .................................\n",
      "[CV] .................. leaf_size=4, n_neighbors=1, p=2, total=   0.8s\n",
      "[CV] leaf_size=4, n_neighbors=1, p=2 .................................\n",
      "[CV] .................. leaf_size=4, n_neighbors=1, p=2, total=   0.7s\n",
      "[CV] leaf_size=4, n_neighbors=2, p=2 .................................\n",
      "[CV] .................. leaf_size=4, n_neighbors=2, p=2, total=   1.7s\n",
      "[CV] leaf_size=4, n_neighbors=2, p=2 .................................\n",
      "[CV] .................. leaf_size=4, n_neighbors=2, p=2, total=   1.8s\n",
      "[CV] leaf_size=4, n_neighbors=3, p=2 .................................\n",
      "[CV] .................. leaf_size=4, n_neighbors=3, p=2, total=   2.7s\n",
      "[CV] leaf_size=4, n_neighbors=3, p=2 .................................\n"
     ]
    },
    {
     "name": "stdout",
     "output_type": "stream",
     "text": [
      "[CV] .................. leaf_size=4, n_neighbors=3, p=2, total=   2.6s\n",
      "[CV] leaf_size=4, n_neighbors=4, p=2 .................................\n",
      "[CV] .................. leaf_size=4, n_neighbors=4, p=2, total=   3.3s\n",
      "[CV] leaf_size=4, n_neighbors=4, p=2 .................................\n",
      "[CV] .................. leaf_size=4, n_neighbors=4, p=2, total=   3.3s\n",
      "[CV] leaf_size=4, n_neighbors=5, p=2 .................................\n",
      "[CV] .................. leaf_size=4, n_neighbors=5, p=2, total=   4.1s\n",
      "[CV] leaf_size=4, n_neighbors=5, p=2 .................................\n",
      "[CV] .................. leaf_size=4, n_neighbors=5, p=2, total=   3.9s\n",
      "[CV] leaf_size=4, n_neighbors=6, p=2 .................................\n",
      "[CV] .................. leaf_size=4, n_neighbors=6, p=2, total=   4.4s\n",
      "[CV] leaf_size=4, n_neighbors=6, p=2 .................................\n",
      "[CV] .................. leaf_size=4, n_neighbors=6, p=2, total=   4.3s\n",
      "[CV] leaf_size=4, n_neighbors=7, p=2 .................................\n",
      "[CV] .................. leaf_size=4, n_neighbors=7, p=2, total=   4.8s\n",
      "[CV] leaf_size=4, n_neighbors=7, p=2 .................................\n",
      "[CV] .................. leaf_size=4, n_neighbors=7, p=2, total=   4.7s\n",
      "[CV] leaf_size=4, n_neighbors=8, p=2 .................................\n",
      "[CV] .................. leaf_size=4, n_neighbors=8, p=2, total=   5.0s\n",
      "[CV] leaf_size=4, n_neighbors=8, p=2 .................................\n",
      "[CV] .................. leaf_size=4, n_neighbors=8, p=2, total=   5.0s\n",
      "[CV] leaf_size=4, n_neighbors=9, p=2 .................................\n",
      "[CV] .................. leaf_size=4, n_neighbors=9, p=2, total=   6.8s\n",
      "[CV] leaf_size=4, n_neighbors=9, p=2 .................................\n",
      "[CV] .................. leaf_size=4, n_neighbors=9, p=2, total=   6.8s\n",
      "[CV] leaf_size=5, n_neighbors=1, p=2 .................................\n",
      "[CV] .................. leaf_size=5, n_neighbors=1, p=2, total=   0.8s\n",
      "[CV] leaf_size=5, n_neighbors=1, p=2 .................................\n",
      "[CV] .................. leaf_size=5, n_neighbors=1, p=2, total=   0.8s\n",
      "[CV] leaf_size=5, n_neighbors=2, p=2 .................................\n",
      "[CV] .................. leaf_size=5, n_neighbors=2, p=2, total=   1.8s\n",
      "[CV] leaf_size=5, n_neighbors=2, p=2 .................................\n",
      "[CV] .................. leaf_size=5, n_neighbors=2, p=2, total=   1.8s\n",
      "[CV] leaf_size=5, n_neighbors=3, p=2 .................................\n",
      "[CV] .................. leaf_size=5, n_neighbors=3, p=2, total=   2.5s\n",
      "[CV] leaf_size=5, n_neighbors=3, p=2 .................................\n",
      "[CV] .................. leaf_size=5, n_neighbors=3, p=2, total=   2.4s\n",
      "[CV] leaf_size=5, n_neighbors=4, p=2 .................................\n",
      "[CV] .................. leaf_size=5, n_neighbors=4, p=2, total=   3.0s\n",
      "[CV] leaf_size=5, n_neighbors=4, p=2 .................................\n",
      "[CV] .................. leaf_size=5, n_neighbors=4, p=2, total=   2.8s\n",
      "[CV] leaf_size=5, n_neighbors=5, p=2 .................................\n",
      "[CV] .................. leaf_size=5, n_neighbors=5, p=2, total=   3.1s\n",
      "[CV] leaf_size=5, n_neighbors=5, p=2 .................................\n",
      "[CV] .................. leaf_size=5, n_neighbors=5, p=2, total=   3.3s\n",
      "[CV] leaf_size=5, n_neighbors=6, p=2 .................................\n",
      "[CV] .................. leaf_size=5, n_neighbors=6, p=2, total=   3.4s\n",
      "[CV] leaf_size=5, n_neighbors=6, p=2 .................................\n",
      "[CV] .................. leaf_size=5, n_neighbors=6, p=2, total=   3.8s\n",
      "[CV] leaf_size=5, n_neighbors=7, p=2 .................................\n",
      "[CV] .................. leaf_size=5, n_neighbors=7, p=2, total=   4.3s\n",
      "[CV] leaf_size=5, n_neighbors=7, p=2 .................................\n",
      "[CV] .................. leaf_size=5, n_neighbors=7, p=2, total=   4.5s\n",
      "[CV] leaf_size=5, n_neighbors=8, p=2 .................................\n",
      "[CV] .................. leaf_size=5, n_neighbors=8, p=2, total=   6.7s\n",
      "[CV] leaf_size=5, n_neighbors=8, p=2 .................................\n",
      "[CV] .................. leaf_size=5, n_neighbors=8, p=2, total=   4.6s\n",
      "[CV] leaf_size=5, n_neighbors=9, p=2 .................................\n",
      "[CV] .................. leaf_size=5, n_neighbors=9, p=2, total=   4.3s\n",
      "[CV] leaf_size=5, n_neighbors=9, p=2 .................................\n",
      "[CV] .................. leaf_size=5, n_neighbors=9, p=2, total=   4.6s\n",
      "[CV] leaf_size=6, n_neighbors=1, p=2 .................................\n",
      "[CV] .................. leaf_size=6, n_neighbors=1, p=2, total=   0.9s\n",
      "[CV] leaf_size=6, n_neighbors=1, p=2 .................................\n",
      "[CV] .................. leaf_size=6, n_neighbors=1, p=2, total=   0.8s\n",
      "[CV] leaf_size=6, n_neighbors=2, p=2 .................................\n",
      "[CV] .................. leaf_size=6, n_neighbors=2, p=2, total=   1.8s\n",
      "[CV] leaf_size=6, n_neighbors=2, p=2 .................................\n",
      "[CV] .................. leaf_size=6, n_neighbors=2, p=2, total=   1.4s\n",
      "[CV] leaf_size=6, n_neighbors=3, p=2 .................................\n",
      "[CV] .................. leaf_size=6, n_neighbors=3, p=2, total=   2.3s\n",
      "[CV] leaf_size=6, n_neighbors=3, p=2 .................................\n",
      "[CV] .................. leaf_size=6, n_neighbors=3, p=2, total=   2.6s\n",
      "[CV] leaf_size=6, n_neighbors=4, p=2 .................................\n",
      "[CV] .................. leaf_size=6, n_neighbors=4, p=2, total=   3.4s\n",
      "[CV] leaf_size=6, n_neighbors=4, p=2 .................................\n",
      "[CV] .................. leaf_size=6, n_neighbors=4, p=2, total=   2.9s\n",
      "[CV] leaf_size=6, n_neighbors=5, p=2 .................................\n",
      "[CV] .................. leaf_size=6, n_neighbors=5, p=2, total=   3.1s\n",
      "[CV] leaf_size=6, n_neighbors=5, p=2 .................................\n",
      "[CV] .................. leaf_size=6, n_neighbors=5, p=2, total=   3.5s\n",
      "[CV] leaf_size=6, n_neighbors=6, p=2 .................................\n",
      "[CV] .................. leaf_size=6, n_neighbors=6, p=2, total=   3.7s\n",
      "[CV] leaf_size=6, n_neighbors=6, p=2 .................................\n",
      "[CV] .................. leaf_size=6, n_neighbors=6, p=2, total=   3.5s\n",
      "[CV] leaf_size=6, n_neighbors=7, p=2 .................................\n",
      "[CV] .................. leaf_size=6, n_neighbors=7, p=2, total=   3.9s\n",
      "[CV] leaf_size=6, n_neighbors=7, p=2 .................................\n",
      "[CV] .................. leaf_size=6, n_neighbors=7, p=2, total=   4.1s\n",
      "[CV] leaf_size=6, n_neighbors=8, p=2 .................................\n",
      "[CV] .................. leaf_size=6, n_neighbors=8, p=2, total=   4.5s\n",
      "[CV] leaf_size=6, n_neighbors=8, p=2 .................................\n",
      "[CV] .................. leaf_size=6, n_neighbors=8, p=2, total=   4.1s\n",
      "[CV] leaf_size=6, n_neighbors=9, p=2 .................................\n",
      "[CV] .................. leaf_size=6, n_neighbors=9, p=2, total=   4.0s\n",
      "[CV] leaf_size=6, n_neighbors=9, p=2 .................................\n",
      "[CV] .................. leaf_size=6, n_neighbors=9, p=2, total=   4.0s\n",
      "[CV] leaf_size=7, n_neighbors=1, p=2 .................................\n",
      "[CV] .................. leaf_size=7, n_neighbors=1, p=2, total=   0.7s\n",
      "[CV] leaf_size=7, n_neighbors=1, p=2 .................................\n",
      "[CV] .................. leaf_size=7, n_neighbors=1, p=2, total=   0.6s\n",
      "[CV] leaf_size=7, n_neighbors=2, p=2 .................................\n",
      "[CV] .................. leaf_size=7, n_neighbors=2, p=2, total=   1.3s\n",
      "[CV] leaf_size=7, n_neighbors=2, p=2 .................................\n",
      "[CV] .................. leaf_size=7, n_neighbors=2, p=2, total=   1.4s\n",
      "[CV] leaf_size=7, n_neighbors=3, p=2 .................................\n",
      "[CV] .................. leaf_size=7, n_neighbors=3, p=2, total=   2.0s\n",
      "[CV] leaf_size=7, n_neighbors=3, p=2 .................................\n",
      "[CV] .................. leaf_size=7, n_neighbors=3, p=2, total=   2.0s\n",
      "[CV] leaf_size=7, n_neighbors=4, p=2 .................................\n",
      "[CV] .................. leaf_size=7, n_neighbors=4, p=2, total=   2.6s\n",
      "[CV] leaf_size=7, n_neighbors=4, p=2 .................................\n",
      "[CV] .................. leaf_size=7, n_neighbors=4, p=2, total=   2.6s\n",
      "[CV] leaf_size=7, n_neighbors=5, p=2 .................................\n",
      "[CV] .................. leaf_size=7, n_neighbors=5, p=2, total=   2.9s\n",
      "[CV] leaf_size=7, n_neighbors=5, p=2 .................................\n"
     ]
    },
    {
     "name": "stdout",
     "output_type": "stream",
     "text": [
      "[CV] .................. leaf_size=7, n_neighbors=5, p=2, total=   2.8s\n",
      "[CV] leaf_size=7, n_neighbors=6, p=2 .................................\n",
      "[CV] .................. leaf_size=7, n_neighbors=6, p=2, total=   3.4s\n",
      "[CV] leaf_size=7, n_neighbors=6, p=2 .................................\n",
      "[CV] .................. leaf_size=7, n_neighbors=6, p=2, total=   3.6s\n",
      "[CV] leaf_size=7, n_neighbors=7, p=2 .................................\n",
      "[CV] .................. leaf_size=7, n_neighbors=7, p=2, total=   3.7s\n",
      "[CV] leaf_size=7, n_neighbors=7, p=2 .................................\n",
      "[CV] .................. leaf_size=7, n_neighbors=7, p=2, total=   4.7s\n",
      "[CV] leaf_size=7, n_neighbors=8, p=2 .................................\n",
      "[CV] .................. leaf_size=7, n_neighbors=8, p=2, total=   5.4s\n",
      "[CV] leaf_size=7, n_neighbors=8, p=2 .................................\n",
      "[CV] .................. leaf_size=7, n_neighbors=8, p=2, total=   4.2s\n",
      "[CV] leaf_size=7, n_neighbors=9, p=2 .................................\n",
      "[CV] .................. leaf_size=7, n_neighbors=9, p=2, total=   4.4s\n",
      "[CV] leaf_size=7, n_neighbors=9, p=2 .................................\n",
      "[CV] .................. leaf_size=7, n_neighbors=9, p=2, total=   4.2s\n",
      "[CV] leaf_size=8, n_neighbors=1, p=2 .................................\n",
      "[CV] .................. leaf_size=8, n_neighbors=1, p=2, total=   0.7s\n",
      "[CV] leaf_size=8, n_neighbors=1, p=2 .................................\n",
      "[CV] .................. leaf_size=8, n_neighbors=1, p=2, total=   0.7s\n",
      "[CV] leaf_size=8, n_neighbors=2, p=2 .................................\n",
      "[CV] .................. leaf_size=8, n_neighbors=2, p=2, total=   1.4s\n",
      "[CV] leaf_size=8, n_neighbors=2, p=2 .................................\n",
      "[CV] .................. leaf_size=8, n_neighbors=2, p=2, total=   1.5s\n",
      "[CV] leaf_size=8, n_neighbors=3, p=2 .................................\n",
      "[CV] .................. leaf_size=8, n_neighbors=3, p=2, total=   2.1s\n",
      "[CV] leaf_size=8, n_neighbors=3, p=2 .................................\n",
      "[CV] .................. leaf_size=8, n_neighbors=3, p=2, total=   2.1s\n",
      "[CV] leaf_size=8, n_neighbors=4, p=2 .................................\n",
      "[CV] .................. leaf_size=8, n_neighbors=4, p=2, total=   2.8s\n",
      "[CV] leaf_size=8, n_neighbors=4, p=2 .................................\n",
      "[CV] .................. leaf_size=8, n_neighbors=4, p=2, total=   2.7s\n",
      "[CV] leaf_size=8, n_neighbors=5, p=2 .................................\n",
      "[CV] .................. leaf_size=8, n_neighbors=5, p=2, total=   3.2s\n",
      "[CV] leaf_size=8, n_neighbors=5, p=2 .................................\n",
      "[CV] .................. leaf_size=8, n_neighbors=5, p=2, total=   3.2s\n",
      "[CV] leaf_size=8, n_neighbors=6, p=2 .................................\n",
      "[CV] .................. leaf_size=8, n_neighbors=6, p=2, total=   3.5s\n",
      "[CV] leaf_size=8, n_neighbors=6, p=2 .................................\n",
      "[CV] .................. leaf_size=8, n_neighbors=6, p=2, total=   3.5s\n",
      "[CV] leaf_size=8, n_neighbors=7, p=2 .................................\n",
      "[CV] .................. leaf_size=8, n_neighbors=7, p=2, total=   3.8s\n",
      "[CV] leaf_size=8, n_neighbors=7, p=2 .................................\n",
      "[CV] .................. leaf_size=8, n_neighbors=7, p=2, total=   3.9s\n",
      "[CV] leaf_size=8, n_neighbors=8, p=2 .................................\n",
      "[CV] .................. leaf_size=8, n_neighbors=8, p=2, total=   4.4s\n",
      "[CV] leaf_size=8, n_neighbors=8, p=2 .................................\n",
      "[CV] .................. leaf_size=8, n_neighbors=8, p=2, total=   4.0s\n",
      "[CV] leaf_size=8, n_neighbors=9, p=2 .................................\n",
      "[CV] .................. leaf_size=8, n_neighbors=9, p=2, total=   4.3s\n",
      "[CV] leaf_size=8, n_neighbors=9, p=2 .................................\n",
      "[CV] .................. leaf_size=8, n_neighbors=9, p=2, total=   4.2s\n",
      "[CV] leaf_size=9, n_neighbors=1, p=2 .................................\n",
      "[CV] .................. leaf_size=9, n_neighbors=1, p=2, total=   0.7s\n",
      "[CV] leaf_size=9, n_neighbors=1, p=2 .................................\n",
      "[CV] .................. leaf_size=9, n_neighbors=1, p=2, total=   0.7s\n",
      "[CV] leaf_size=9, n_neighbors=2, p=2 .................................\n",
      "[CV] .................. leaf_size=9, n_neighbors=2, p=2, total=   1.4s\n",
      "[CV] leaf_size=9, n_neighbors=2, p=2 .................................\n",
      "[CV] .................. leaf_size=9, n_neighbors=2, p=2, total=   1.5s\n",
      "[CV] leaf_size=9, n_neighbors=3, p=2 .................................\n",
      "[CV] .................. leaf_size=9, n_neighbors=3, p=2, total=   2.2s\n",
      "[CV] leaf_size=9, n_neighbors=3, p=2 .................................\n",
      "[CV] .................. leaf_size=9, n_neighbors=3, p=2, total=   2.2s\n",
      "[CV] leaf_size=9, n_neighbors=4, p=2 .................................\n",
      "[CV] .................. leaf_size=9, n_neighbors=4, p=2, total=   2.7s\n",
      "[CV] leaf_size=9, n_neighbors=4, p=2 .................................\n",
      "[CV] .................. leaf_size=9, n_neighbors=4, p=2, total=   2.7s\n",
      "[CV] leaf_size=9, n_neighbors=5, p=2 .................................\n",
      "[CV] .................. leaf_size=9, n_neighbors=5, p=2, total=   3.2s\n",
      "[CV] leaf_size=9, n_neighbors=5, p=2 .................................\n",
      "[CV] .................. leaf_size=9, n_neighbors=5, p=2, total=   3.1s\n",
      "[CV] leaf_size=9, n_neighbors=6, p=2 .................................\n",
      "[CV] .................. leaf_size=9, n_neighbors=6, p=2, total=   3.5s\n",
      "[CV] leaf_size=9, n_neighbors=6, p=2 .................................\n",
      "[CV] .................. leaf_size=9, n_neighbors=6, p=2, total=   3.4s\n",
      "[CV] leaf_size=9, n_neighbors=7, p=2 .................................\n",
      "[CV] .................. leaf_size=9, n_neighbors=7, p=2, total=   3.9s\n",
      "[CV] leaf_size=9, n_neighbors=7, p=2 .................................\n",
      "[CV] .................. leaf_size=9, n_neighbors=7, p=2, total=   3.9s\n",
      "[CV] leaf_size=9, n_neighbors=8, p=2 .................................\n",
      "[CV] .................. leaf_size=9, n_neighbors=8, p=2, total=   4.2s\n",
      "[CV] leaf_size=9, n_neighbors=8, p=2 .................................\n",
      "[CV] .................. leaf_size=9, n_neighbors=8, p=2, total=   4.0s\n",
      "[CV] leaf_size=9, n_neighbors=9, p=2 .................................\n",
      "[CV] .................. leaf_size=9, n_neighbors=9, p=2, total=   4.4s\n",
      "[CV] leaf_size=9, n_neighbors=9, p=2 .................................\n",
      "[CV] .................. leaf_size=9, n_neighbors=9, p=2, total=   4.8s\n"
     ]
    },
    {
     "name": "stderr",
     "output_type": "stream",
     "text": [
      "[Parallel(n_jobs=1)]: Done 162 out of 162 | elapsed:  9.7min finished\n"
     ]
    }
   ],
   "source": [
    "clf = clf.fit(X_train, y_train)"
   ]
  },
  {
   "cell_type": "code",
   "execution_count": 59,
   "metadata": {
    "scrolled": true
   },
   "outputs": [
    {
     "name": "stdout",
     "output_type": "stream",
     "text": [
      "0.9968967362225789\n",
      "{'leaf_size': 1, 'n_neighbors': 1, 'p': 2}\n",
      "KNeighborsClassifier(algorithm='auto', leaf_size=1, metric='minkowski',\n",
      "                     metric_params=None, n_jobs=None, n_neighbors=1, p=2,\n",
      "                     weights='uniform')\n"
     ]
    }
   ],
   "source": [
    "# print(pd.DataFrame(clf.cv_results_).head(5))\n",
    "print(clf.best_score_) #0.9800963081861959\n",
    "print(clf.best_params_) #{'leaf_size': 10, 'n_neighbors': 10, 'p': 2}\n",
    "#tested 10-29, 10-29, 2\n",
    "#tested 1-9, 1-9, 2\n",
    "\n",
    "best_estimator = clf.best_estimator_\n",
    "print(best_estimator)"
   ]
  },
  {
   "cell_type": "code",
   "execution_count": 60,
   "metadata": {
    "scrolled": true
   },
   "outputs": [],
   "source": [
    "y_train_prediction = best_estimator.predict(X_train)\n",
    "y_test_prediction = best_estimator.predict(X_test)"
   ]
  },
  {
   "cell_type": "code",
   "execution_count": 61,
   "metadata": {
    "scrolled": true
   },
   "outputs": [
    {
     "name": "stdout",
     "output_type": "stream",
     "text": [
      "---- Train ----\n"
     ]
    },
    {
     "data": {
      "text/html": [
       "<style  type=\"text/css\" >\n",
       "    #T_9925f6c2_7ebd_11ea_b74a_9eb6d0118b0drow0_col0 {\n",
       "            background-color:  #008000;\n",
       "        }    #T_9925f6c2_7ebd_11ea_b74a_9eb6d0118b0drow0_col1 {\n",
       "            background-color:  #e5ffe5;\n",
       "        }    #T_9925f6c2_7ebd_11ea_b74a_9eb6d0118b0drow0_col2 {\n",
       "            background-color:  #e5ffe5;\n",
       "        }    #T_9925f6c2_7ebd_11ea_b74a_9eb6d0118b0drow1_col0 {\n",
       "            background-color:  #e5ffe5;\n",
       "        }    #T_9925f6c2_7ebd_11ea_b74a_9eb6d0118b0drow1_col1 {\n",
       "            background-color:  #008000;\n",
       "        }    #T_9925f6c2_7ebd_11ea_b74a_9eb6d0118b0drow1_col2 {\n",
       "            background-color:  #e5ffe5;\n",
       "        }    #T_9925f6c2_7ebd_11ea_b74a_9eb6d0118b0drow2_col0 {\n",
       "            background-color:  #e5ffe5;\n",
       "        }    #T_9925f6c2_7ebd_11ea_b74a_9eb6d0118b0drow2_col1 {\n",
       "            background-color:  #e5ffe5;\n",
       "        }    #T_9925f6c2_7ebd_11ea_b74a_9eb6d0118b0drow2_col2 {\n",
       "            background-color:  #008000;\n",
       "        }</style>  \n",
       "<table id=\"T_9925f6c2_7ebd_11ea_b74a_9eb6d0118b0d\" > \n",
       "<thead>    <tr> \n",
       "        <th class=\"blank level0\" ></th> \n",
       "        <th class=\"col_heading level0 col0\" >0</th> \n",
       "        <th class=\"col_heading level0 col1\" >1</th> \n",
       "        <th class=\"col_heading level0 col2\" >2</th> \n",
       "    </tr></thead> \n",
       "<tbody>    <tr> \n",
       "        <th id=\"T_9925f6c2_7ebd_11ea_b74a_9eb6d0118b0dlevel0_row0\" class=\"row_heading level0 row0\" >0</th> \n",
       "        <td id=\"T_9925f6c2_7ebd_11ea_b74a_9eb6d0118b0drow0_col0\" class=\"data row0 col0\" >6281</td> \n",
       "        <td id=\"T_9925f6c2_7ebd_11ea_b74a_9eb6d0118b0drow0_col1\" class=\"data row0 col1\" >0</td> \n",
       "        <td id=\"T_9925f6c2_7ebd_11ea_b74a_9eb6d0118b0drow0_col2\" class=\"data row0 col2\" >0</td> \n",
       "    </tr>    <tr> \n",
       "        <th id=\"T_9925f6c2_7ebd_11ea_b74a_9eb6d0118b0dlevel0_row1\" class=\"row_heading level0 row1\" >1</th> \n",
       "        <td id=\"T_9925f6c2_7ebd_11ea_b74a_9eb6d0118b0drow1_col0\" class=\"data row1 col0\" >0</td> \n",
       "        <td id=\"T_9925f6c2_7ebd_11ea_b74a_9eb6d0118b0drow1_col1\" class=\"data row1 col1\" >6141</td> \n",
       "        <td id=\"T_9925f6c2_7ebd_11ea_b74a_9eb6d0118b0drow1_col2\" class=\"data row1 col2\" >0</td> \n",
       "    </tr>    <tr> \n",
       "        <th id=\"T_9925f6c2_7ebd_11ea_b74a_9eb6d0118b0dlevel0_row2\" class=\"row_heading level0 row2\" >2</th> \n",
       "        <td id=\"T_9925f6c2_7ebd_11ea_b74a_9eb6d0118b0drow2_col0\" class=\"data row2 col0\" >0</td> \n",
       "        <td id=\"T_9925f6c2_7ebd_11ea_b74a_9eb6d0118b0drow2_col1\" class=\"data row2 col1\" >0</td> \n",
       "        <td id=\"T_9925f6c2_7ebd_11ea_b74a_9eb6d0118b0drow2_col2\" class=\"data row2 col2\" >6268</td> \n",
       "    </tr></tbody> \n",
       "</table> "
      ],
      "text/plain": [
       "<pandas.io.formats.style.Styler at 0x23a48eaf240>"
      ]
     },
     "metadata": {},
     "output_type": "display_data"
    },
    {
     "name": "stdout",
     "output_type": "stream",
     "text": [
      "                        Accuracy Score: 1.0000\n",
      "                              F1-Score: 1.0000\n",
      "Matthews Correlation Coefficient (MCC): 1.0000\n",
      "            Area Under the Cruve (AUC): 1.0000\n"
     ]
    }
   ],
   "source": [
    "print('---- Train ----')\n",
    "performance_metrics(y_train, y_train_prediction)"
   ]
  },
  {
   "cell_type": "code",
   "execution_count": 62,
   "metadata": {
    "scrolled": true
   },
   "outputs": [
    {
     "name": "stdout",
     "output_type": "stream",
     "text": [
      "---- Test ----\n"
     ]
    },
    {
     "data": {
      "text/html": [
       "<style  type=\"text/css\" >\n",
       "    #T_9939bf4c_7ebd_11ea_af22_9eb6d0118b0drow0_col0 {\n",
       "            background-color:  #008000;\n",
       "        }    #T_9939bf4c_7ebd_11ea_af22_9eb6d0118b0drow0_col1 {\n",
       "            background-color:  #e5ffe5;\n",
       "        }    #T_9939bf4c_7ebd_11ea_af22_9eb6d0118b0drow0_col2 {\n",
       "            background-color:  #e5ffe5;\n",
       "        }    #T_9939bf4c_7ebd_11ea_af22_9eb6d0118b0drow1_col0 {\n",
       "            background-color:  #e5ffe5;\n",
       "        }    #T_9939bf4c_7ebd_11ea_af22_9eb6d0118b0drow1_col1 {\n",
       "            background-color:  #008000;\n",
       "        }    #T_9939bf4c_7ebd_11ea_af22_9eb6d0118b0drow1_col2 {\n",
       "            background-color:  #e5ffe5;\n",
       "        }    #T_9939bf4c_7ebd_11ea_af22_9eb6d0118b0drow2_col0 {\n",
       "            background-color:  #e5ffe5;\n",
       "        }    #T_9939bf4c_7ebd_11ea_af22_9eb6d0118b0drow2_col1 {\n",
       "            background-color:  #e5ffe5;\n",
       "        }    #T_9939bf4c_7ebd_11ea_af22_9eb6d0118b0drow2_col2 {\n",
       "            background-color:  #008000;\n",
       "        }</style>  \n",
       "<table id=\"T_9939bf4c_7ebd_11ea_af22_9eb6d0118b0d\" > \n",
       "<thead>    <tr> \n",
       "        <th class=\"blank level0\" ></th> \n",
       "        <th class=\"col_heading level0 col0\" >0</th> \n",
       "        <th class=\"col_heading level0 col1\" >1</th> \n",
       "        <th class=\"col_heading level0 col2\" >2</th> \n",
       "    </tr></thead> \n",
       "<tbody>    <tr> \n",
       "        <th id=\"T_9939bf4c_7ebd_11ea_af22_9eb6d0118b0dlevel0_row0\" class=\"row_heading level0 row0\" >0</th> \n",
       "        <td id=\"T_9939bf4c_7ebd_11ea_af22_9eb6d0118b0drow0_col0\" class=\"data row0 col0\" >2658</td> \n",
       "        <td id=\"T_9939bf4c_7ebd_11ea_af22_9eb6d0118b0drow0_col1\" class=\"data row0 col1\" >1</td> \n",
       "        <td id=\"T_9939bf4c_7ebd_11ea_af22_9eb6d0118b0drow0_col2\" class=\"data row0 col2\" >0</td> \n",
       "    </tr>    <tr> \n",
       "        <th id=\"T_9939bf4c_7ebd_11ea_af22_9eb6d0118b0dlevel0_row1\" class=\"row_heading level0 row1\" >1</th> \n",
       "        <td id=\"T_9939bf4c_7ebd_11ea_af22_9eb6d0118b0drow1_col0\" class=\"data row1 col0\" >0</td> \n",
       "        <td id=\"T_9939bf4c_7ebd_11ea_af22_9eb6d0118b0drow1_col1\" class=\"data row1 col1\" >2649</td> \n",
       "        <td id=\"T_9939bf4c_7ebd_11ea_af22_9eb6d0118b0drow1_col2\" class=\"data row1 col2\" >0</td> \n",
       "    </tr>    <tr> \n",
       "        <th id=\"T_9939bf4c_7ebd_11ea_af22_9eb6d0118b0dlevel0_row2\" class=\"row_heading level0 row2\" >2</th> \n",
       "        <td id=\"T_9939bf4c_7ebd_11ea_af22_9eb6d0118b0drow2_col0\" class=\"data row2 col0\" >0</td> \n",
       "        <td id=\"T_9939bf4c_7ebd_11ea_af22_9eb6d0118b0drow2_col1\" class=\"data row2 col1\" >0</td> \n",
       "        <td id=\"T_9939bf4c_7ebd_11ea_af22_9eb6d0118b0drow2_col2\" class=\"data row2 col2\" >2702</td> \n",
       "    </tr></tbody> \n",
       "</table> "
      ],
      "text/plain": [
       "<pandas.io.formats.style.Styler at 0x23a48e99e48>"
      ]
     },
     "metadata": {},
     "output_type": "display_data"
    },
    {
     "name": "stdout",
     "output_type": "stream",
     "text": [
      "                        Accuracy Score: 0.9999\n",
      "                              F1-Score: 0.9999\n",
      "Matthews Correlation Coefficient (MCC): 0.9998\n",
      "            Area Under the Cruve (AUC): 0.9998\n"
     ]
    }
   ],
   "source": [
    "print('---- Test ----')\n",
    "performance_metrics(y_test, y_test_prediction)"
   ]
  },
  {
   "cell_type": "code",
   "execution_count": 63,
   "metadata": {
    "scrolled": true
   },
   "outputs": [
    {
     "data": {
      "text/plain": [
       "['Module3/KNN-2.joblib']"
      ]
     },
     "execution_count": 63,
     "metadata": {},
     "output_type": "execute_result"
    }
   ],
   "source": [
    "# save model\n",
    "\n",
    "dump(best_estimator, 'Module3/KNN-2.joblib')"
   ]
  },
  {
   "cell_type": "code",
   "execution_count": 56,
   "metadata": {},
   "outputs": [
    {
     "name": "stdout",
     "output_type": "stream",
     "text": [
      "KNeighborsClassifier(algorithm='auto', leaf_size=10, metric='minkowski',\n",
      "                     metric_params=None, n_jobs=None, n_neighbors=10, p=2,\n",
      "                     weights='uniform')\n"
     ]
    }
   ],
   "source": [
    "# load model\n",
    "\n",
    "clf = load('Module3/KNN.joblib')\n",
    "print(clf)"
   ]
  },
  {
   "cell_type": "markdown",
   "metadata": {},
   "source": [
    "## SVM"
   ]
  },
  {
   "cell_type": "code",
   "execution_count": null,
   "metadata": {
    "scrolled": true
   },
   "outputs": [],
   "source": []
  },
  {
   "cell_type": "markdown",
   "metadata": {},
   "source": [
    "## Random Forest"
   ]
  },
  {
   "cell_type": "code",
   "execution_count": null,
   "metadata": {
    "scrolled": true
   },
   "outputs": [],
   "source": []
  }
 ],
 "metadata": {
  "kernelspec": {
   "display_name": "Python 3",
   "language": "python",
   "name": "python3"
  },
  "language_info": {
   "codemirror_mode": {
    "name": "ipython",
    "version": 3
   },
   "file_extension": ".py",
   "mimetype": "text/x-python",
   "name": "python",
   "nbconvert_exporter": "python",
   "pygments_lexer": "ipython3",
   "version": "3.6.8"
  }
 },
 "nbformat": 4,
 "nbformat_minor": 2
}
