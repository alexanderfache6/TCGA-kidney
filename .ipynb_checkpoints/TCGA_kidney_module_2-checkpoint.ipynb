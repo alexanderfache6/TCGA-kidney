{
 "cells": [
  {
   "cell_type": "markdown",
   "metadata": {},
   "source": [
    "# Module 2"
   ]
  },
  {
   "cell_type": "markdown",
   "metadata": {},
   "source": [
    "### Imports"
   ]
  },
  {
   "cell_type": "code",
   "execution_count": 63,
   "metadata": {},
   "outputs": [],
   "source": [
    "import cv2\n",
    "import glob\n",
    "import IPython.display as display\n",
    "import matplotlib.pyplot as plt\n",
    "import numpy as np\n",
    "import os, random\n",
    "import pathlib\n",
    "from PIL import Image\n",
    "import imageio\n",
    "from skimage import color, feature\n",
    "from sklearn.utils import shuffle\n",
    "from sklearn.preprocessing import normalize\n",
    "from tqdm import tqdm"
   ]
  },
  {
   "cell_type": "markdown",
   "metadata": {},
   "source": [
    "### Helpers"
   ]
  },
  {
   "cell_type": "code",
   "execution_count": 2,
   "metadata": {},
   "outputs": [],
   "source": [
    "def determine_class(file_dir, classes):\n",
    "    path = np.char.split(file_dir, sep ='\\\\')\n",
    "    file_name = path.item(0)[-1]\n",
    "    for i in range(0, len(classes)):\n",
    "        if classes[i] in file_name:\n",
    "            return i\n",
    "    return -1"
   ]
  },
  {
   "cell_type": "markdown",
   "metadata": {},
   "source": [
    "### Feature Extractors"
   ]
  },
  {
   "cell_type": "code",
   "execution_count": 112,
   "metadata": {},
   "outputs": [],
   "source": [
    "def extract_rgb(image):\n",
    "    r, g, b = cv2.split(image)\n",
    "    \n",
    "    norm_r = normalize(r, norm='l2')\n",
    "    norm_g = normalize(g, norm='l2')\n",
    "    norm_b = normalize(b, norm='l2')\n",
    "    \n",
    "    return np.array([np.mean(norm_r), np.mean(norm_g), np.mean(norm_b), np.std(norm_r), np.std(norm_g), np.std(norm_b)], dtype=np.float32)\n",
    "\n",
    "def extract_hsv(image):\n",
    "    image = cv2.cvtColor(image, cv2.COLOR_BGR2HSV)\n",
    "    h, s, v = cv2.split(image)\n",
    "    \n",
    "    norm_h = normalize(h, norm='l2')\n",
    "    norm_s = normalize(s, norm='l2')\n",
    "    norm_v = normalize(v, norm='l2')\n",
    "    \n",
    "    return np.array([np.mean(norm_h), np.mean(norm_s), np.mean(norm_v), np.std(norm_h), np.std(norm_s), np.std(norm_v)], dtype=np.float32)\n",
    "\n",
    "def extract_glcm(image):\n",
    "    offset = [1] #pixel\n",
    "    directions = np.asarray([np.pi*i/4 for i in range(0, 8)]) #radian angles\n",
    "\n",
    "    image = cv2.cvtColor(image, cv2.COLOR_BGR2GRAY)\n",
    "    glcm = feature.greycomatrix(image, distances=offset, angles=directions).astype(np.uint8)\n",
    "    \n",
    "    contrast = feature.greycoprops(glcm, prop='contrast')\n",
    "    homogeneity = feature.greycoprops(glcm, prop='homogeneity')\n",
    "    energy = feature.greycoprops(glcm, prop='energy')\n",
    "    correlation = feature.greycoprops(glcm, prop='correlation')\n",
    "    \n",
    "    norm_contrast = normalize(contrast, norm='l2')\n",
    "    norm_homogeneity = normalize(homogeneity, norm='l2')\n",
    "    norm_energy = normalize(energy, norm='l2')\n",
    "    norm_correlation = normalize(correlation, norm='l2')\n",
    "    \n",
    "    return np.array([np.mean(norm_contrast), np.mean(norm_homogeneity), np.mean(norm_energy), np.mean(norm_correlation), np.std(norm_contrast), np.std(norm_homogeneity), np.std(norm_energy), np.std(norm_correlation)], dtype=np.float32)"
   ]
  },
  {
   "cell_type": "markdown",
   "metadata": {},
   "source": [
    "### Load Images"
   ]
  },
  {
   "cell_type": "code",
   "execution_count": 4,
   "metadata": {},
   "outputs": [
    {
     "name": "stderr",
     "output_type": "stream",
     "text": [
      "                                                                                                                                                                                                                                                                              "
     ]
    },
    {
     "name": "stdout",
     "output_type": "stream",
     "text": [
      "\n",
      "Images: (100, 512, 512, 3)\n",
      "Labels: (100,)\n",
      "Files: (100, 1)\n"
     ]
    },
    {
     "name": "stderr",
     "output_type": "stream",
     "text": [
      "\r"
     ]
    }
   ],
   "source": [
    "current_dir = os.getcwd()\n",
    "data_dir = current_dir + '\\\\data_original\\\\Necrosis' #'\\data_augmented'\n",
    "image_files = glob.glob(data_dir + '/*.png')\n",
    "\n",
    "classes = np.array(['Necrosis', 'Stroma', 'Tumor'])\n",
    "\n",
    "augmented_images_size = (512, 512, 3)\n",
    "augmented_images = np.empty((0, augmented_images_size[0], augmented_images_size[1], augmented_images_size[2]), dtype=np.uint8)\n",
    "augmented_labels = np.empty((0,), dtype=np.uint8)\n",
    "augmented_images_files = np.empty((0, 1))\n",
    "\n",
    "for current_image_file in tqdm(image_files):   \n",
    "    current_image = np.expand_dims(np.array(Image.open(current_image_file)).astype(np.uint8), axis=0)    \n",
    "    current_image_label = determine_class(current_image_file, classes)\n",
    "\n",
    "    augmented_images = np.append(augmented_images, current_image, axis=0)\n",
    "    augmented_labels = np.append(augmented_labels, np.expand_dims(current_image_label, axis=0), axis=0)\n",
    "\n",
    "    current_image_file = np.expand_dims(current_image_file, axis=0)\n",
    "    augmented_images_files = np.append(augmented_images_files, np.expand_dims(current_image_file, axis=0), axis=0)\n",
    "    \n",
    "print()\n",
    "print('Images:', augmented_images.shape)\n",
    "print('Labels:', augmented_labels.shape)\n",
    "print('Files:', augmented_images_files.shape)"
   ]
  },
  {
   "cell_type": "markdown",
   "metadata": {},
   "source": [
    "### Extract Features"
   ]
  },
  {
   "cell_type": "code",
   "execution_count": 113,
   "metadata": {},
   "outputs": [
    {
     "name": "stderr",
     "output_type": "stream",
     "text": [
      "                                                                                                                                                                                                                                                                              "
     ]
    },
    {
     "name": "stdout",
     "output_type": "stream",
     "text": [
      "Data Features: (25, 20)\n"
     ]
    },
    {
     "name": "stderr",
     "output_type": "stream",
     "text": [
      "\r"
     ]
    }
   ],
   "source": [
    "num_features = 6 + 6 + 8 #D\n",
    "\n",
    "data_features = np.empty((0, num_features), dtype=np.float32) #NxD\n",
    "\n",
    "for i in tqdm(range(0, 25)): #augmented_images.shape[0])):\n",
    "    current_data_features = np.array([], dtype=np.float32)\n",
    "        \n",
    "    out = extract_rgb(augmented_images[i])\n",
    "    current_data_features = np.append(current_data_features, out, axis=0)\n",
    "    \n",
    "    out = extract_hsv(augmented_images[i])\n",
    "    current_data_features = np.append(current_data_features, out, axis=0)\n",
    "\n",
    "    out = extract_glcm(augmented_images[i])\n",
    "    current_data_features = np.append(current_data_features, out, axis=0)\n",
    "    \n",
    "    data_features = np.append(data_features, np.expand_dims(current_data_features, axis=0), axis=0)\n",
    "\n",
    "print('Data Features:', data_features.shape)"
   ]
  },
  {
   "cell_type": "markdown",
   "metadata": {},
   "source": [
    "### Plot Features"
   ]
  },
  {
   "cell_type": "code",
   "execution_count": 115,
   "metadata": {},
   "outputs": [
    {
     "name": "stderr",
     "output_type": "stream",
     "text": [
      "                                                                                                                                                                                                                                                                              \r"
     ]
    },
    {
     "data": {
      "image/png": "[encoded data removed]",
      "text/plain": [
       "<Figure size 1440x720 with 25 Axes>"
      ]
     },
     "metadata": {},
     "output_type": "display_data"
    }
   ],
   "source": [
    "grid = (5, 5)\n",
    "\n",
    "ax = plt.figure(figsize=(20, 10))\n",
    "\n",
    "for i in tqdm(range(0, data_features.shape[0])):\n",
    "    plt.subplot(grid[0], grid[1], i+1)\n",
    "    plt.xticks([])\n",
    "#     plt.yticks([])\n",
    "    plt.grid(False)\n",
    "    plt.scatter(range(0, num_features), data_features[i, :], s=5)\n",
    "    plt.xlabel(classes[augmented_labels[i]])"
   ]
  },
  {
   "cell_type": "code",
   "execution_count": null,
   "metadata": {},
   "outputs": [],
   "source": []
  }
 ],
 "metadata": {
  "kernelspec": {
   "display_name": "Python 3",
   "language": "python",
   "name": "python3"
  },
  "language_info": {
   "codemirror_mode": {
    "name": "ipython",
    "version": 3
   },
   "file_extension": ".py",
   "mimetype": "text/x-python",
   "name": "python",
   "nbconvert_exporter": "python",
   "pygments_lexer": "ipython3",
   "version": "3.6.8"
  }
 },
 "nbformat": 4,
 "nbformat_minor": 2
}
