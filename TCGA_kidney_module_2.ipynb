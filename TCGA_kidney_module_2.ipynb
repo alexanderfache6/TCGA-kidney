{
 "cells": [
  {
   "cell_type": "markdown",
   "metadata": {},
   "source": [
    "# Module 2"
   ]
  },
  {
   "cell_type": "markdown",
   "metadata": {},
   "source": [
    "### Imports"
   ]
  },
  {
   "cell_type": "code",
   "execution_count": 2,
   "metadata": {},
   "outputs": [],
   "source": [
    "import glob\n",
    "import IPython.display as display\n",
    "import matplotlib.pyplot as plt\n",
    "import numpy as np\n",
    "import os, random\n",
    "import pathlib\n",
    "from PIL import Image\n",
    "import imageio\n",
    "from skimage import color\n",
    "from sklearn.utils import shuffle\n",
    "from tqdm import tqdm"
   ]
  },
  {
   "cell_type": "markdown",
   "metadata": {},
   "source": [
    "### Helpers"
   ]
  },
  {
   "cell_type": "code",
   "execution_count": 7,
   "metadata": {},
   "outputs": [],
   "source": [
    "def determine_class(file_dir, classes):\n",
    "    path = np.char.split(file_dir, sep ='\\\\')\n",
    "    file_name = path.item(0)[-1]\n",
    "    for i in range(0, len(classes)):\n",
    "        if classes[i] in file_name:\n",
    "            return i\n",
    "    return -1"
   ]
  },
  {
   "cell_type": "markdown",
   "metadata": {},
   "source": [
    "### Feature Extractors"
   ]
  },
  {
   "cell_type": "code",
   "execution_count": null,
   "metadata": {},
   "outputs": [],
   "source": []
  },
  {
   "cell_type": "markdown",
   "metadata": {},
   "source": [
    "### Load Images"
   ]
  },
  {
   "cell_type": "code",
   "execution_count": 22,
   "metadata": {},
   "outputs": [
    {
     "name": "stderr",
     "output_type": "stream",
     "text": [
      "                                                                                                                                                                                                                                                                              "
     ]
    },
    {
     "name": "stdout",
     "output_type": "stream",
     "text": [
      "\n",
      "Images: (100, 512, 512, 3)\n",
      "Labels: (100,)\n",
      "Files: (100, 1)\n"
     ]
    },
    {
     "name": "stderr",
     "output_type": "stream",
     "text": [
      "\r"
     ]
    }
   ],
   "source": [
    "current_dir = os.getcwd()\n",
    "data_dir = current_dir + '\\\\data_original\\\\Necrosis' #'\\data_augmented'\n",
    "image_files = glob.glob(data_dir + '/*.png')\n",
    "\n",
    "classes = np.array(['Necrosis', 'Stroma', 'Tumor'])\n",
    "\n",
    "augmented_images_size = (512, 512, 3)\n",
    "augmented_images = np.empty((0, augmented_images_size[0], augmented_images_size[1], augmented_images_size[2]), dtype=np.uint8)\n",
    "augmented_labels = np.empty((0,), dtype=np.uint8)\n",
    "augmented_images_files = np.empty((0, 1))\n",
    "\n",
    "for current_image_file in tqdm(image_files):   \n",
    "    current_image = np.expand_dims(np.array(Image.open(current_image_file)).astype(np.uint8), axis=0)    \n",
    "    current_image_label = determine_class(current_image_file, classes)\n",
    "\n",
    "    augmented_images = np.append(augmented_images, current_image, axis=0)\n",
    "    augmented_labels = np.append(augmented_labels, np.expand_dims(current_image_label, axis=0), axis=0)\n",
    "\n",
    "    current_image_file = np.expand_dims(current_image_file, axis=0)\n",
    "    augmented_images_files = np.append(augmented_images_files, np.expand_dims(current_image_file, axis=0), axis=0)\n",
    "    \n",
    "print()\n",
    "print('Images:', augmented_images.shape)\n",
    "print('Labels:', augmented_labels.shape)\n",
    "print('Files:', augmented_images_files.shape)"
   ]
  },
  {
   "cell_type": "markdown",
   "metadata": {},
   "source": [
    "### Extract Features"
   ]
  },
  {
   "cell_type": "code",
   "execution_count": null,
   "metadata": {},
   "outputs": [],
   "source": [
    "num_features = #D\n",
    "\n",
    "data_features = np.empty((0, num_features), dtype=np.float32) #NxD"
   ]
  }
 ],
 "metadata": {
  "kernelspec": {
   "display_name": "Python 3",
   "language": "python",
   "name": "python3"
  },
  "language_info": {
   "codemirror_mode": {
    "name": "ipython",
    "version": 3
   },
   "file_extension": ".py",
   "mimetype": "text/x-python",
   "name": "python",
   "nbconvert_exporter": "python",
   "pygments_lexer": "ipython3",
   "version": "3.6.8"
  }
 },
 "nbformat": 4,
 "nbformat_minor": 2
}
